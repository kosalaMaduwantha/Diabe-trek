{
 "cells": [
  {
   "cell_type": "code",
   "execution_count": 6,
   "metadata": {},
   "outputs": [],
   "source": [
    "import pandas as pd\n",
    "import numpy as np\n",
    "import matplotlib.pyplot as plt\n",
    "%matplotlib inline"
   ]
  },
  {
   "cell_type": "code",
   "execution_count": 7,
   "metadata": {},
   "outputs": [],
   "source": [
    "# Load libraries\n",
    "import pandas as pd\n",
    "# Import Decision Tree Classifier\n",
    "from sklearn.tree import DecisionTreeClassifier\n",
    "#Import train_test_split function\n",
    "from sklearn.model_selection import train_test_split \n",
    "#Import scikit-learn metrics module for accuracy calculation\n",
    "from sklearn import metrics "
   ]
  },
  {
   "cell_type": "code",
   "execution_count": 35,
   "metadata": {},
   "outputs": [],
   "source": [
    "dataset = pd.read_csv(\"/Users/JiniMaya/2022-183/IT19181370_DIabetic_Peripheral_Neuropathy/DataSets/DPN.csv\")\n"
   ]
  },
  {
   "cell_type": "code",
   "execution_count": 36,
   "metadata": {},
   "outputs": [
    {
     "data": {
      "text/plain": [
       "(133, 13)"
      ]
     },
     "execution_count": 36,
     "metadata": {},
     "output_type": "execute_result"
    }
   ],
   "source": [
    "dataset.shape"
   ]
  },
  {
   "cell_type": "code",
   "execution_count": 37,
   "metadata": {},
   "outputs": [
    {
     "data": {
      "text/html": [
       "<div>\n",
       "<style scoped>\n",
       "    .dataframe tbody tr th:only-of-type {\n",
       "        vertical-align: middle;\n",
       "    }\n",
       "\n",
       "    .dataframe tbody tr th {\n",
       "        vertical-align: top;\n",
       "    }\n",
       "\n",
       "    .dataframe thead th {\n",
       "        text-align: right;\n",
       "    }\n",
       "</style>\n",
       "<table border=\"1\" class=\"dataframe\">\n",
       "  <thead>\n",
       "    <tr style=\"text-align: right;\">\n",
       "      <th></th>\n",
       "      <th>Sex</th>\n",
       "      <th>Age</th>\n",
       "      <th>BMI</th>\n",
       "      <th>DM duration</th>\n",
       "      <th>FBS</th>\n",
       "      <th>A1C</th>\n",
       "      <th>LDL</th>\n",
       "      <th>HDL</th>\n",
       "      <th>TG</th>\n",
       "      <th>DM treat</th>\n",
       "      <th>Statin</th>\n",
       "      <th>Dose ( Í2 if BID)</th>\n",
       "      <th>Neu-pathy</th>\n",
       "    </tr>\n",
       "  </thead>\n",
       "  <tbody>\n",
       "    <tr>\n",
       "      <th>0</th>\n",
       "      <td>Male</td>\n",
       "      <td>65</td>\n",
       "      <td>25.0</td>\n",
       "      <td>20.0</td>\n",
       "      <td>129</td>\n",
       "      <td>7.1</td>\n",
       "      <td>100</td>\n",
       "      <td>40</td>\n",
       "      <td>200</td>\n",
       "      <td>Oral</td>\n",
       "      <td>Ator</td>\n",
       "      <td>40</td>\n",
       "      <td>1</td>\n",
       "    </tr>\n",
       "    <tr>\n",
       "      <th>1</th>\n",
       "      <td>Male</td>\n",
       "      <td>42</td>\n",
       "      <td>27.0</td>\n",
       "      <td>3.0</td>\n",
       "      <td>210</td>\n",
       "      <td>8.9</td>\n",
       "      <td>125</td>\n",
       "      <td>38</td>\n",
       "      <td>151</td>\n",
       "      <td>Oral</td>\n",
       "      <td>Ator</td>\n",
       "      <td>20</td>\n",
       "      <td>0</td>\n",
       "    </tr>\n",
       "    <tr>\n",
       "      <th>2</th>\n",
       "      <td>Female</td>\n",
       "      <td>31</td>\n",
       "      <td>21.0</td>\n",
       "      <td>11.0</td>\n",
       "      <td>164</td>\n",
       "      <td>7.7</td>\n",
       "      <td>147</td>\n",
       "      <td>35</td>\n",
       "      <td>217</td>\n",
       "      <td>Ins</td>\n",
       "      <td>No_statin</td>\n",
       "      <td>0</td>\n",
       "      <td>0</td>\n",
       "    </tr>\n",
       "    <tr>\n",
       "      <th>3</th>\n",
       "      <td>Male</td>\n",
       "      <td>70</td>\n",
       "      <td>32.0</td>\n",
       "      <td>29.0</td>\n",
       "      <td>208</td>\n",
       "      <td>9.3</td>\n",
       "      <td>119</td>\n",
       "      <td>36</td>\n",
       "      <td>168</td>\n",
       "      <td>Ins</td>\n",
       "      <td>Ator</td>\n",
       "      <td>80</td>\n",
       "      <td>1</td>\n",
       "    </tr>\n",
       "    <tr>\n",
       "      <th>4</th>\n",
       "      <td>Female</td>\n",
       "      <td>54</td>\n",
       "      <td>34.0</td>\n",
       "      <td>6.0</td>\n",
       "      <td>183</td>\n",
       "      <td>9.8</td>\n",
       "      <td>196</td>\n",
       "      <td>32</td>\n",
       "      <td>197</td>\n",
       "      <td>Oral</td>\n",
       "      <td>Ator</td>\n",
       "      <td>40</td>\n",
       "      <td>1</td>\n",
       "    </tr>\n",
       "  </tbody>\n",
       "</table>\n",
       "</div>"
      ],
      "text/plain": [
       "      Sex  Age   BMI  DM duration  FBS  A1C  LDL  HDL   TG DM treat  \\\n",
       "0    Male   65  25.0         20.0  129  7.1  100   40  200     Oral   \n",
       "1    Male   42  27.0          3.0  210  8.9  125   38  151     Oral   \n",
       "2  Female   31  21.0         11.0  164  7.7  147   35  217      Ins   \n",
       "3    Male   70  32.0         29.0  208  9.3  119   36  168      Ins   \n",
       "4  Female   54  34.0          6.0  183  9.8  196   32  197     Oral   \n",
       "\n",
       "      Statin  Dose ( Í2 if BID)  Neu-pathy  \n",
       "0       Ator                 40          1  \n",
       "1       Ator                 20          0  \n",
       "2  No_statin                  0          0  \n",
       "3       Ator                 80          1  \n",
       "4       Ator                 40          1  "
      ]
     },
     "execution_count": 37,
     "metadata": {},
     "output_type": "execute_result"
    }
   ],
   "source": [
    "dataset.head()"
   ]
  },
  {
   "cell_type": "code",
   "execution_count": 39,
   "metadata": {},
   "outputs": [
    {
     "name": "stdout",
     "output_type": "stream",
     "text": [
      "<class 'pandas.core.frame.DataFrame'>\n"
     ]
    }
   ],
   "source": [
    "print(type(dataset[['Statin']]))"
   ]
  },
  {
   "cell_type": "code",
   "execution_count": 49,
   "metadata": {},
   "outputs": [],
   "source": [
    "from sklearn.preprocessing import LabelEncoder \n",
    "le = LabelEncoder() \n",
    "dataset[\"Sex\"]= le.fit_transform(dataset[\"Sex\"]) \n",
    "dataset[\"DM treat\"]= le.fit_transform(dataset[\"DM treat\"])\n",
    "dataset[\"Statin\"]= le.fit_transform(dataset[\"Statin\"])"
   ]
  },
  {
   "cell_type": "code",
   "execution_count": 50,
   "metadata": {},
   "outputs": [
    {
     "data": {
      "text/html": [
       "<div>\n",
       "<style scoped>\n",
       "    .dataframe tbody tr th:only-of-type {\n",
       "        vertical-align: middle;\n",
       "    }\n",
       "\n",
       "    .dataframe tbody tr th {\n",
       "        vertical-align: top;\n",
       "    }\n",
       "\n",
       "    .dataframe thead th {\n",
       "        text-align: right;\n",
       "    }\n",
       "</style>\n",
       "<table border=\"1\" class=\"dataframe\">\n",
       "  <thead>\n",
       "    <tr style=\"text-align: right;\">\n",
       "      <th></th>\n",
       "      <th>Sex</th>\n",
       "      <th>Age</th>\n",
       "      <th>BMI</th>\n",
       "      <th>DM duration</th>\n",
       "      <th>FBS</th>\n",
       "      <th>A1C</th>\n",
       "      <th>LDL</th>\n",
       "      <th>HDL</th>\n",
       "      <th>TG</th>\n",
       "      <th>DM treat</th>\n",
       "      <th>Statin</th>\n",
       "      <th>Dose ( Í2 if BID)</th>\n",
       "      <th>Neu-pathy</th>\n",
       "    </tr>\n",
       "  </thead>\n",
       "  <tbody>\n",
       "    <tr>\n",
       "      <th>0</th>\n",
       "      <td>1</td>\n",
       "      <td>65</td>\n",
       "      <td>25.0</td>\n",
       "      <td>20.0</td>\n",
       "      <td>129</td>\n",
       "      <td>7.1</td>\n",
       "      <td>100</td>\n",
       "      <td>40</td>\n",
       "      <td>200</td>\n",
       "      <td>2</td>\n",
       "      <td>0</td>\n",
       "      <td>40</td>\n",
       "      <td>1</td>\n",
       "    </tr>\n",
       "    <tr>\n",
       "      <th>1</th>\n",
       "      <td>1</td>\n",
       "      <td>42</td>\n",
       "      <td>27.0</td>\n",
       "      <td>3.0</td>\n",
       "      <td>210</td>\n",
       "      <td>8.9</td>\n",
       "      <td>125</td>\n",
       "      <td>38</td>\n",
       "      <td>151</td>\n",
       "      <td>2</td>\n",
       "      <td>0</td>\n",
       "      <td>20</td>\n",
       "      <td>0</td>\n",
       "    </tr>\n",
       "    <tr>\n",
       "      <th>2</th>\n",
       "      <td>0</td>\n",
       "      <td>31</td>\n",
       "      <td>21.0</td>\n",
       "      <td>11.0</td>\n",
       "      <td>164</td>\n",
       "      <td>7.7</td>\n",
       "      <td>147</td>\n",
       "      <td>35</td>\n",
       "      <td>217</td>\n",
       "      <td>1</td>\n",
       "      <td>1</td>\n",
       "      <td>0</td>\n",
       "      <td>0</td>\n",
       "    </tr>\n",
       "    <tr>\n",
       "      <th>3</th>\n",
       "      <td>1</td>\n",
       "      <td>70</td>\n",
       "      <td>32.0</td>\n",
       "      <td>29.0</td>\n",
       "      <td>208</td>\n",
       "      <td>9.3</td>\n",
       "      <td>119</td>\n",
       "      <td>36</td>\n",
       "      <td>168</td>\n",
       "      <td>1</td>\n",
       "      <td>0</td>\n",
       "      <td>80</td>\n",
       "      <td>1</td>\n",
       "    </tr>\n",
       "    <tr>\n",
       "      <th>4</th>\n",
       "      <td>0</td>\n",
       "      <td>54</td>\n",
       "      <td>34.0</td>\n",
       "      <td>6.0</td>\n",
       "      <td>183</td>\n",
       "      <td>9.8</td>\n",
       "      <td>196</td>\n",
       "      <td>32</td>\n",
       "      <td>197</td>\n",
       "      <td>2</td>\n",
       "      <td>0</td>\n",
       "      <td>40</td>\n",
       "      <td>1</td>\n",
       "    </tr>\n",
       "  </tbody>\n",
       "</table>\n",
       "</div>"
      ],
      "text/plain": [
       "   Sex  Age   BMI  DM duration  FBS  A1C  LDL  HDL   TG  DM treat  Statin  \\\n",
       "0    1   65  25.0         20.0  129  7.1  100   40  200         2       0   \n",
       "1    1   42  27.0          3.0  210  8.9  125   38  151         2       0   \n",
       "2    0   31  21.0         11.0  164  7.7  147   35  217         1       1   \n",
       "3    1   70  32.0         29.0  208  9.3  119   36  168         1       0   \n",
       "4    0   54  34.0          6.0  183  9.8  196   32  197         2       0   \n",
       "\n",
       "   Dose ( Í2 if BID)  Neu-pathy  \n",
       "0                 40          1  \n",
       "1                 20          0  \n",
       "2                  0          0  \n",
       "3                 80          1  \n",
       "4                 40          1  "
      ]
     },
     "execution_count": 50,
     "metadata": {},
     "output_type": "execute_result"
    }
   ],
   "source": [
    "dataset.head()"
   ]
  },
  {
   "cell_type": "code",
   "execution_count": 52,
   "metadata": {},
   "outputs": [],
   "source": [
    "X = dataset.drop('Neu-pathy', axis=1)\n",
    "y = dataset['Neu-pathy']"
   ]
  },
  {
   "cell_type": "code",
   "execution_count": 53,
   "metadata": {},
   "outputs": [],
   "source": [
    "from sklearn.model_selection import train_test_split\n",
    "X_train, X_test, y_train, y_test = train_test_split(X, y, test_size=0.20, random_state=1)\n"
   ]
  },
  {
   "cell_type": "code",
   "execution_count": 54,
   "metadata": {},
   "outputs": [],
   "source": [
    "# Create Decision Tree classifer object\n",
    "clf = DecisionTreeClassifier()\n",
    "# Train Decision Tree Classifer\n",
    "clf = clf.fit(X_train,y_train)\n",
    "#Predict the response for test dataset\n",
    "y_pred = clf.predict(X_test)"
   ]
  },
  {
   "cell_type": "code",
   "execution_count": 55,
   "metadata": {},
   "outputs": [
    {
     "name": "stdout",
     "output_type": "stream",
     "text": [
      "Accuracy: 0.7037037037037037\n"
     ]
    }
   ],
   "source": [
    "print(\"Accuracy:\",metrics.accuracy_score(y_test, y_pred))"
   ]
  },
  {
   "cell_type": "code",
   "execution_count": null,
   "metadata": {},
   "outputs": [],
   "source": []
  }
 ],
 "metadata": {
  "kernelspec": {
   "display_name": "Python 3.10.6 64-bit",
   "language": "python",
   "name": "python3"
  },
  "language_info": {
   "codemirror_mode": {
    "name": "ipython",
    "version": 3
   },
   "file_extension": ".py",
   "mimetype": "text/x-python",
   "name": "python",
   "nbconvert_exporter": "python",
   "pygments_lexer": "ipython3",
   "version": "3.10.6"
  },
  "orig_nbformat": 4,
  "vscode": {
   "interpreter": {
    "hash": "70e164cf2432826ae33a48971d540c88b975b763c4cbd5b085c3689ddaf4e426"
   }
  }
 },
 "nbformat": 4,
 "nbformat_minor": 2
}
