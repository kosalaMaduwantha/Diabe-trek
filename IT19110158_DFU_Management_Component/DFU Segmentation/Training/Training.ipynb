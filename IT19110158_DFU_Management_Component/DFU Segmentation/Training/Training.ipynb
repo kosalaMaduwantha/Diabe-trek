{
  "nbformat": 4,
  "nbformat_minor": 0,
  "metadata": {
    "colab": {
      "name": "Training.ipynb",
      "provenance": [],
      "collapsed_sections": []
    },
    "kernelspec": {
      "name": "python3",
      "display_name": "Python 3"
    },
    "language_info": {
      "name": "python"
    }
  },
  "cells": [
    {
      "cell_type": "code",
      "execution_count": null,
      "metadata": {
        "id": "J-FxQO5VRSP0"
      },
      "outputs": [],
      "source": [
        "# Import relevant Built-in Libraries & Functions\n",
        "from tensorflow.keras.optimizers import Adam\n",
        "from keras.callbacks import EarlyStopping\n",
        "from keras.models import load_model\n",
        "from keras.utils.generic_utils import CustomObjectScope"
      ]
    },
    {
      "cell_type": "code",
      "source": [
        "# Import Models\n",
        "from models.unets import Unet2D\n",
        "from models.FCN import FCN_Vgg16_16s\n",
        "from models.SegNet import SegNet"
      ],
      "metadata": {
        "id": "07RfWTVNvNaO"
      },
      "execution_count": null,
      "outputs": []
    },
    {
      "cell_type": "code",
      "source": [
        "# Import custom Utilities\n",
        "from utils.learning.metrics import dice_coef, precision, recall\n",
        "from utils.learning.losses import dice_coef_loss\n",
        "from utils.io.data import DataGen, save_results, save_history, load_data"
      ],
      "metadata": {
        "id": "6SdWP8IPvP6t"
      },
      "execution_count": null,
      "outputs": []
    },
    {
      "cell_type": "code",
      "source": [
        "# Define variables\n",
        "input_dim_x=224\n",
        "input_dim_y=224\n",
        "n_filters = 32"
      ],
      "metadata": {
        "id": "WimxHJp7vS9N"
      },
      "execution_count": null,
      "outputs": []
    },
    {
      "cell_type": "code",
      "source": [
        "# Data Generation variables\n",
        "dataset = 'Medetec_foot_ulcer_224'\n",
        "data_gen = DataGen('./data/' + dataset + '/', split_ratio=0.2, x=input_dim_x, y=input_dim_y)"
      ],
      "metadata": {
        "id": "IzTFks1QQhc-"
      },
      "execution_count": null,
      "outputs": []
    },
    {
      "cell_type": "code",
      "source": [
        "# UNet Model\n",
        "unet2d = Unet2D(n_filters=n_filters, input_dim_x=None, input_dim_y=None, num_channels=3)"
      ],
      "metadata": {
        "id": "anV9iS4gvcQm"
      },
      "execution_count": null,
      "outputs": []
    },
    {
      "cell_type": "code",
      "source": [
        "# FCN Model\n",
        "model, model_name = FCN_Vgg16_16s(input_shape=(input_dim_x, input_dim_y, 3))"
      ],
      "metadata": {
        "id": "Z4sVyt_8v4zW"
      },
      "execution_count": null,
      "outputs": []
    },
    {
      "cell_type": "code",
      "source": [
        "# SegNet Model\n",
        "segnet = SegNet(n_filters, input_dim_x, input_dim_y, num_channels=3)\n",
        "model, model_name = segnet.get_SegNet()"
      ],
      "metadata": {
        "id": "bb7WBwYHwBnO"
      },
      "execution_count": null,
      "outputs": []
    },
    {
      "cell_type": "code",
      "source": [
        "# Variables for training\n",
        "batch_size = 2\n",
        "epochs = 2000\n",
        "learning_rate = 1e-4\n",
        "loss = 'binary_crossentropy'"
      ],
      "metadata": {
        "id": "WbzYJX98wBg-"
      },
      "execution_count": null,
      "outputs": []
    },
    {
      "cell_type": "code",
      "source": [
        "# Define the state for Early-Stopping\n",
        "es = EarlyStopping(monitor='val_dice_coef', patience=200, mode='max', restore_best_weights=True)"
      ],
      "metadata": {
        "id": "wYWY9dhpRPb1"
      },
      "execution_count": null,
      "outputs": []
    },
    {
      "cell_type": "code",
      "source": [
        "# Model Summary\n",
        "model.summary()"
      ],
      "metadata": {
        "id": "edY-m7DCwOTO"
      },
      "execution_count": null,
      "outputs": []
    },
    {
      "cell_type": "code",
      "source": [
        "# Model Compilation with Optimizer\n",
        "model.compile(optimizer=Adam(lr=learning_rate), loss=loss, metrics=[dice_coef, precision, recall])"
      ],
      "metadata": {
        "id": "eOJBum7ywTYJ"
      },
      "execution_count": null,
      "outputs": []
    },
    {
      "cell_type": "code",
      "source": [
        "# Training Process\n",
        "training_history = model.fit_generator(data_gen.generate_data(batch_size=batch_size, train=True),\n",
        "                                       steps_per_epoch=int(data_gen.get_num_data_points(train=True) / batch_size),\n",
        "                                       callbacks=[es],\n",
        "                                       validation_data=data_gen.generate_data(batch_size=batch_size, val=True),\n",
        "                                       validation_steps=int(data_gen.get_num_data_points(val=True) / batch_size),\n",
        "                                       epochs=epochs)"
      ],
      "metadata": {
        "id": "4i_npTuswWMN"
      },
      "execution_count": null,
      "outputs": []
    },
    {
      "cell_type": "code",
      "source": [
        "# Save the Trained Filters & Training History\n",
        "save_history(model, model_name, training_history, dataset, n_filters, epochs, learning_rate, loss, color_space='RGB',\n",
        "             path='./training_history/')"
      ],
      "metadata": {
        "id": "cj_XITp2wZ5l"
      },
      "execution_count": null,
      "outputs": []
    }
  ]
}