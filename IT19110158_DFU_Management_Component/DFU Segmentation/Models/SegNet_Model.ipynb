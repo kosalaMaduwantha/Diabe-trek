{
  "nbformat": 4,
  "nbformat_minor": 0,
  "metadata": {
    "colab": {
      "name": "SegNet Model.ipynb",
      "provenance": [],
      "collapsed_sections": []
    },
    "kernelspec": {
      "name": "python3",
      "display_name": "Python 3"
    },
    "language_info": {
      "name": "python"
    }
  },
  "cells": [
    {
      "cell_type": "code",
      "execution_count": null,
      "metadata": {
        "id": "tWdYFto05cQZ"
      },
      "outputs": [],
      "source": [
        "# Import relevant Built-in Libraries & Functions\n",
        "from keras.models import Model, Input\n",
        "from keras.layers import Conv2D, BatchNormalization, MaxPooling2D, Dropout, Concatenate, UpSampling2D"
      ]
    },
    {
      "cell_type": "code",
      "source": [
        "# Class definition for SegNet - Semenatic Segmentation model\n",
        "class SegNet:\n",
        "  # Constructor\n",
        "  def __init__(self, n_filters, input_dim_x, input_dim_y, num_channels):\n",
        "    self.input_dim_x = input_dim_x\n",
        "    self.input_dim_y = input_dim_y\n",
        "    self.n_filters = n_filters\n",
        "    self.num_channels = num_channels\n",
        "\n",
        "  # Function to build the SegNet model\n",
        "  def get_SegNet(self):\n",
        "    convnet_input = Input(shape=(self.input_dim_x, self.input_dim_y, self.num_channels))\n",
        "\n",
        "    encoder_conv1 = Conv2D(self.n_filters, kernel_size=9, activation='relu', padding='same')(convnet_input)\n",
        "    pool1 = MaxPooling2D(pool_size=(2, 2))(encoder_conv1)\n",
        "    encoder_conv2 = Conv2D(self.n_filters, kernel_size=5, activation='relu', padding='same')(pool1)\n",
        "    pool2 = MaxPooling2D(pool_size=(2, 2))(encoder_conv2)\n",
        "    encoder_conv3 = Conv2D(self.n_filters * 2, kernel_size=5, activation='relu', padding='same')(pool2)\n",
        "    pool3 = MaxPooling2D(pool_size=(2, 2))(encoder_conv3)\n",
        "    encoder_conv4 = Conv2D(self.n_filters * 2, kernel_size=5, activation='relu', padding='same')(pool3)\n",
        "    pool4 = MaxPooling2D(pool_size=(2, 2))(encoder_conv4)\n",
        "\n",
        "    conv5 = Conv2D(self.n_filters, kernel_size=5, activation='relu', padding='same')(pool4)\n",
        "\n",
        "    decoder_conv6 = Conv2D(self.n_filters, kernel_size=7, activation='relu', padding='same')(UpSampling2D(size=(2, 2))(conv5))\n",
        "    decoder_conv7 = Conv2D(self.n_filters, kernel_size=5, activation='relu', padding='same')(UpSampling2D(size=(2, 2))(decoder_conv6))\n",
        "    decoder_conv8 = Conv2D(self.n_filters, kernel_size=5, activation='relu', padding='same')(UpSampling2D(size=(2, 2))(decoder_conv7))\n",
        "    #decoder_conv9 = Conv2D(self.n_filters, kernel_size=5, activation='relu', padding='same')(UpSampling2D(size=(2, 2))(decoder_conv8))\n",
        "    decoder_conv9 = Conv2D(1, kernel_size=1, activation='sigmoid', padding='same')(UpSampling2D(size=(2, 2))(decoder_conv8))\n",
        "\n",
        "    return Model(outputs=decoder_conv9, inputs=convnet_input), 'SegNet'"
      ],
      "metadata": {
        "id": "RTVuAQuw6MO_"
      },
      "execution_count": null,
      "outputs": []
    }
  ]
}