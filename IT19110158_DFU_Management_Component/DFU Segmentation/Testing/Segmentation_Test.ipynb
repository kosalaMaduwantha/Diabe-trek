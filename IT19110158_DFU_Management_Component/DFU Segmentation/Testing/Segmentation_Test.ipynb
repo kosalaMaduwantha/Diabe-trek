{
  "nbformat": 4,
  "nbformat_minor": 0,
  "metadata": {
    "colab": {
      "name": "Segmentation Test.ipynb",
      "provenance": [],
      "collapsed_sections": []
    },
    "kernelspec": {
      "name": "python3",
      "display_name": "Python 3"
    },
    "language_info": {
      "name": "python"
    }
  },
  "cells": [
    {
      "cell_type": "code",
      "execution_count": null,
      "metadata": {
        "id": "CYzZ68I6w97d"
      },
      "outputs": [],
      "source": [
        "# Import relevant Built-in Libraries & Functions\n",
        "import cv2\n",
        "from keras.models import load_model\n",
        "from keras.utils.generic_utils import CustomObjectScope"
      ]
    },
    {
      "cell_type": "code",
      "source": [
        "# Import Models\n",
        "from models.unets import Unet2D\n",
        "from models.FCN import FCN_Vgg16_16s\n",
        "from models.SegNet import SegNet"
      ],
      "metadata": {
        "id": "WMBttK6wxK2u"
      },
      "execution_count": null,
      "outputs": []
    },
    {
      "cell_type": "code",
      "source": [
        "# Import custom Utilities\n",
        "from utils.learning.metrics import dice_coef, precision, recall\n",
        "from utils.BilinearUpSampling import BilinearUpSampling2D\n",
        "from utils.io.data import load_data, save_results, save_rgb_results, save_history, load_test_images, DataGen"
      ],
      "metadata": {
        "id": "xTA6o9hexMku"
      },
      "execution_count": null,
      "outputs": []
    },
    {
      "cell_type": "code",
      "source": [
        "# Define variables for Testing\n",
        "input_dim_x = 224\n",
        "input_dim_y = 224\n",
        "color_space = 'rgb'\n",
        "path = #'./data/Medetec_foot_ulcer_224/'\n",
        "weight_file_name = #'2022-05-09 01%3A53%3A15.480800.hdf5'\n",
        "pred_save_path = #'2022-05-09 01%3A53%3A15.480800/'"
      ],
      "metadata": {
        "id": "3VI2AbSWxPr2"
      },
      "execution_count": null,
      "outputs": []
    },
    {
      "cell_type": "code",
      "source": [
        "# Data Generation for Testing\n",
        "data_gen = DataGen(path, split_ratio=0.0, x=input_dim_x, y=input_dim_y, color_space=color_space)\n",
        "x_test, test_label_filenames_list = load_test_images(path)"
      ],
      "metadata": {
        "id": "_WSrdY4hxVre"
      },
      "execution_count": null,
      "outputs": []
    },
    {
      "cell_type": "code",
      "source": [
        "# UNet Model Test\n",
        "unet2d = Unet2D(n_filters=64, input_dim_x=input_dim_x, input_dim_y=input_dim_y, num_channels=3)\\\n",
        "model = load_model('./training_history/' + weight_file_name, \n",
        "                   custom_objects={'recall':recall,\n",
        "                                 'precision':precision,\n",
        "                                 'dice_coef': dice_coef,\n",
        "                                 'relu6':relu6,\n",
        "                                 'DepthwiseConv2D':DepthwiseConv2D,\n",
        "                                 'BilinearUpsampling':BilinearUpsampling})"
      ],
      "metadata": {
        "id": "lXnd5P9-xWeO"
      },
      "execution_count": null,
      "outputs": []
    },
    {
      "cell_type": "code",
      "source": [
        "# sep_unet = Separable_Unet2D(n_filters=64, input_dim_x=input_dim_x, input_dim_y=input_dim_y, num_channels=3)\n",
        "# model, model_name = sep_unet.get_sep_unet_v2()\n",
        "# model = load_model('./training_history/' + weight_file_name, \n",
        "#                    custom_objects={'dice_coef': dice_coef,\n",
        "#                                  'relu6':relu6,\n",
        "#                                  'DepthwiseConv2D':DepthwiseConv2D,\n",
        "#                                  'BilinearUpsampling':BilinearUpsampling})"
      ],
      "metadata": {
        "id": "x8CnIBQjxk2e"
      },
      "execution_count": null,
      "outputs": []
    },
    {
      "cell_type": "code",
      "source": [
        "# FCN Model Test\n",
        "model, model_name = FCN_Vgg16_16s(input_shape=(input_dim_x, input_dim_y, 3))\n",
        "with CustomObjectScope({'BilinearUpSampling2D':BilinearUpSampling2D}):\n",
        "    model = load_model('./training_history/' + weight_file_name, custom_objects={'dice_coef': dice_coef})"
      ],
      "metadata": {
        "id": "RCI-CxDHxpv_"
      },
      "execution_count": null,
      "outputs": []
    },
    {
      "cell_type": "code",
      "source": [
        "# Save Test Results\n",
        "for image_batch, label_batch in data_gen.generate_data(batch_size=len(x_test), test=True):\n",
        "    prediction = model.predict(image_batch, verbose=1)\n",
        "    save_results(prediction, 'rgb', path + 'test/predictions/' + pred_save_path, test_label_filenames_list)\n",
        "    break"
      ],
      "metadata": {
        "id": "UJBbn-mIxsv2"
      },
      "execution_count": null,
      "outputs": []
    }
  ]
}