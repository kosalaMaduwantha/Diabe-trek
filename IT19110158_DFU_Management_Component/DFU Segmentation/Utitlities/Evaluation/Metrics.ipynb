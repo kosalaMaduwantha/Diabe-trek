{
  "nbformat": 4,
  "nbformat_minor": 0,
  "metadata": {
    "colab": {
      "name": "Metrics.ipynb",
      "provenance": [],
      "collapsed_sections": []
    },
    "kernelspec": {
      "name": "python3",
      "display_name": "Python 3"
    },
    "language_info": {
      "name": "python"
    }
  },
  "cells": [
    {
      "cell_type": "code",
      "execution_count": null,
      "metadata": {
        "id": "JpunS6w9y3Pf"
      },
      "outputs": [],
      "source": [
        "# Import relevant Built-in Libraries & Functions\n",
        "from keras import backend as K"
      ]
    },
    {
      "cell_type": "code",
      "source": [
        "# dice coefficient\n",
        "def dice_coef(y_true, y_pred, smooth=1.):\n",
        "  y_true_f = K.flatten(y_true)\n",
        "  y_pred_f = K.flatten(y_pred)\n",
        "  intersection = K.sum(y_true_f * y_pred_f)\n",
        "  return (2. * intersection + smooth) / (K.sum(y_true_f) + K.sum(y_pred_f) + smooth)\n"
      ],
      "metadata": {
        "id": "LU7ezQeFzA_C"
      },
      "execution_count": null,
      "outputs": []
    },
    {
      "cell_type": "code",
      "source": [
        "# Recall (true positive rate)\n",
        "def recall(y_true, y_pred):\n",
        "  true_positives = K.sum(K.round(K.clip(y_true * y_pred, 0, 1)))\n",
        "  possible_positives = K.sum(K.round(K.clip(y_true, 0, 1)))\n",
        "  recall = true_positives / (possible_positives + K.epsilon())\n",
        "  return recall\n",
        "\n",
        "# def recall(truth, prediction):\n",
        "#   TP = K.sum(K.round(K.clip(truth * prediction, 0, 1)))\n",
        "#   P = K.sum(K.round(K.clip(truth, 0, 1)))\n",
        "#   return TP / (P + K.epsilon())"
      ],
      "metadata": {
        "id": "HwSOMzl8zF7z"
      },
      "execution_count": null,
      "outputs": []
    },
    {
      "cell_type": "code",
      "source": [
        "# Precision (positive prediction value)\n",
        "def precision(y_true, y_pred):\n",
        "  true_positives = K.sum(K.round(K.clip(y_true * y_pred, 0, 1)))\n",
        "  predicted_positives = K.sum(K.round(K.clip(y_pred, 0, 1)))\n",
        "  precision = true_positives / (predicted_positives + K.epsilon())\n",
        "  return precision\n",
        "\n",
        "# def precision(truth, prediction):\n",
        "#   TP = K.sum(K.round(K.clip(truth * prediction, 0, 1)))\n",
        "#   FP = K.sum(K.round(K.clip((1-truth) * prediction, 0, 1)))\n",
        "#   return TP / (TP + FP + K.epsilon())"
      ],
      "metadata": {
        "id": "qF48kM_szKN1"
      },
      "execution_count": null,
      "outputs": []
    },
    {
      "cell_type": "code",
      "source": [
        "# Specificity (true negative rate)\n",
        "def specificity(truth, prediction):\n",
        "  TN = K.sum(K.round(K.clip((1-truth) * (1-prediction), 0, 1)))\n",
        "  N = K.sum(K.round(K.clip(1-truth, 0, 1)))\n",
        "  return TN / (N + K.epsilon())"
      ],
      "metadata": {
        "id": "P7hzOIeozIFV"
      },
      "execution_count": null,
      "outputs": []
    },
    {
      "cell_type": "code",
      "source": [
        "# Function to calculate F1 score\n",
        "def f1(y_true, y_pred):\n",
        "  precision = precision(y_true, y_pred)\n",
        "  recall = recall(y_true, y_pred)\n",
        "  return 2*((precision*recall)/(precision+recall+K.epsilon()))"
      ],
      "metadata": {
        "id": "2ZGjM95DzMOn"
      },
      "execution_count": null,
      "outputs": []
    }
  ]
}