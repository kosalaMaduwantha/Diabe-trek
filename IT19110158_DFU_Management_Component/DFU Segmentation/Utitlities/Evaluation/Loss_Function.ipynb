{
  "nbformat": 4,
  "nbformat_minor": 0,
  "metadata": {
    "colab": {
      "name": "Loss Function.ipynb",
      "provenance": [],
      "collapsed_sections": []
    },
    "kernelspec": {
      "name": "python3",
      "display_name": "Python 3"
    },
    "language_info": {
      "name": "python"
    }
  },
  "cells": [
    {
      "cell_type": "code",
      "execution_count": null,
      "metadata": {
        "id": "t_tKBxt6zvn4"
      },
      "outputs": [],
      "source": [
        "# Import relevant Built-in Libraries & Functions\n",
        "from keras import backend as K"
      ]
    },
    {
      "cell_type": "code",
      "source": [
        "# Dice Coefficient - method 1\n",
        "def dice_coef(y_true, y_pred, smooth=1):\n",
        "  y_true_f = K.flatten(y_true)\n",
        "  y_pred_f = K.flatten(y_pred)\n",
        "  intersection = K.sum(y_true_f * y_pred_f)\n",
        "  return (2. * intersection + smooth) / (K.sum(y_true_f) + K.sum(y_pred_f) + smooth)"
      ],
      "metadata": {
        "id": "nY_h2Pmfzyfe"
      },
      "execution_count": null,
      "outputs": []
    },
    {
      "cell_type": "code",
      "source": [
        "# Dice Coefficient Loss - method 1\n",
        "def dice_coef_loss(y_true, y_pred):\n",
        "  return -dice_coef(y_true, y_pred)"
      ],
      "metadata": {
        "id": "y5w-ZCcSz371"
      },
      "execution_count": null,
      "outputs": []
    },
    {
      "cell_type": "code",
      "source": [
        "# Jaccard distance\n",
        "def jaccard_distance_loss(y_true, y_pred, smooth=100):\n",
        "  intersection = K.sum(K.abs(y_true * y_pred), axis=-1)\n",
        "  sum_ = K.sum(K.abs(y_true) + K.abs(y_pred), axis=-1)\n",
        "  jac = (intersection + smooth) / (sum_ - intersection + smooth)\n",
        "  return (1 - jac) * smooth"
      ],
      "metadata": {
        "id": "aFjZggyyz5iG"
      },
      "execution_count": null,
      "outputs": []
    },
    {
      "cell_type": "code",
      "source": [
        "# Dice Coefficient - method 2\n",
        "def dice_coef_(y_true, y_pred, smooth=1):\n",
        "  intersection = K.sum(K.abs(y_true * y_pred), axis=-1)\n",
        "    return (2. * intersection + smooth) / (K.sum(K.square(y_true), -1) + K.sum(K.square(y_pred), -1) + smooth)"
      ],
      "metadata": {
        "id": "NdgDOLBd0HSn"
      },
      "execution_count": null,
      "outputs": []
    },
    {
      "cell_type": "code",
      "source": [
        "# Dice Coefficient Loss - method 2\n",
        "def dice_coef_loss_(y_true, y_pred):\n",
        "    return 1 - dice_coef_(y_true, y_pred)"
      ],
      "metadata": {
        "id": "USwPiraD0PSG"
      },
      "execution_count": null,
      "outputs": []
    },
    {
      "cell_type": "code",
      "source": [
        "# Dice Coefficient Loss with smooth = 1E-6\n",
        "def dice_loss(y_true, y_pred, smooth=1e-6):\n",
        "  y_true_f = K.flatten(y_true)\n",
        "  y_pred_f = K.flatten(y_pred)\n",
        "  intersection = K.sum(y_true_f * y_pred_f)\n",
        "  answer = (2. * intersection + smooth) / (K.sum(y_true_f) + K.sum(y_pred_f) + smooth)\n",
        "  return -answer"
      ],
      "metadata": {
        "id": "VqrjHIJc0SM2"
      },
      "execution_count": null,
      "outputs": []
    },
    {
      "cell_type": "code",
      "source": [
        "# Tversky Loss\n",
        "def tversky_loss(y_true, y_pred, alpha=0.3, beta=0.7, smooth=1e-10):\n",
        "  y_true = K.flatten(y_true)\n",
        "  y_pred = K.flatten(y_pred)\n",
        "  truepos = K.sum(y_true * y_pred)\n",
        "  fp_and_fn = alpha * K.sum(y_pred * (1 - y_true)) + beta * K.sum((1 - y_pred) * y_true)\n",
        "  answer = (truepos + smooth) / ((truepos + smooth) + fp_and_fn)\n",
        "  return -answer\n"
      ],
      "metadata": {
        "id": "BD4pzO_d0apG"
      },
      "execution_count": null,
      "outputs": []
    },
    {
      "cell_type": "code",
      "source": [
        "# Jaccard Coefficient Log Loss\n",
        "def jaccard_coef_logloss(y_true, y_pred, smooth=1e-10):\n",
        "  y_true = K.flatten(y_true)\n",
        "  y_pred = K.flatten(y_pred)\n",
        "  truepos = K.sum(y_true * y_pred)\n",
        "  falsepos = K.sum(y_pred) - truepos\n",
        "  falseneg = K.sum(y_true) - truepos\n",
        "  jaccard = (truepos + smooth) / (smooth + truepos + falseneg + falsepos)\n",
        "  return -K.log(jaccard + smooth)"
      ],
      "metadata": {
        "id": "m3gPkxoy0rJ0"
      },
      "execution_count": null,
      "outputs": []
    }
  ]
}