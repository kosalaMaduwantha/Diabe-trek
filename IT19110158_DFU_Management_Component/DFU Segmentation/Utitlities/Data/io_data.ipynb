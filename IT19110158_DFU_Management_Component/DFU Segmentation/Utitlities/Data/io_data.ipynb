{
  "nbformat": 4,
  "nbformat_minor": 0,
  "metadata": {
    "colab": {
      "name": "io-data.ipynb",
      "provenance": [],
      "collapsed_sections": []
    },
    "kernelspec": {
      "name": "python3",
      "display_name": "Python 3"
    },
    "language_info": {
      "name": "python"
    }
  },
  "cells": [
    {
      "cell_type": "code",
      "execution_count": null,
      "metadata": {
        "id": "8mswWtq5FnVS"
      },
      "outputs": [],
      "source": [
        "# Import relevant Built-in Libraries & Functions\n",
        "import os\n",
        "import cv2\n",
        "import json\n",
        "import random\n",
        "import datetime\n",
        "import numpy as np\n",
        "import matplotlib.pyplot as plt"
      ]
    },
    {
      "cell_type": "code",
      "source": [
        "# Class definition for the Data Generator\n",
        "class DataGen:\n",
        "  # Constructor\n",
        "  def __init__(self, path, split_ratio, x, y, color_space='rgb'):\n",
        "    self.x = x\n",
        "    self.y = y\n",
        "    self.path = path\n",
        "    self.color_space = color_space\n",
        "    self.path_train_images = path + \"train/images/\"\n",
        "    self.path_train_labels = path + \"train/labels/\"\n",
        "    self.path_test_images = path + \"test/images/\"\n",
        "    self.path_test_labels = path + \"test/labels/\"\n",
        "    self.image_file_list = get_png_filename_list(self.path_train_images)\n",
        "    self.label_file_list = get_png_filename_list(self.path_train_labels)\n",
        "    self.image_file_list[:], self.label_file_list[:] = self.shuffle_image_label_lists_together()\n",
        "    self.split_index = int(split_ratio * len(self.image_file_list))\n",
        "    self.x_train_file_list = self.image_file_list[self.split_index:]\n",
        "    self.y_train_file_list = self.label_file_list[self.split_index:]\n",
        "    self.x_val_file_list = self.image_file_list[:self.split_index]\n",
        "    self.y_val_file_list = self.label_file_list[:self.split_index]\n",
        "    self.x_test_file_list = get_png_filename_list(self.path_test_images)\n",
        "    self.y_test_file_list = get_png_filename_list(self.path_test_labels)\n",
        "\n",
        "  # Custom Image Data Generator\n",
        "  def generate_data(self, batch_size, train=False, val=False, test=False):\n",
        "  \"\"\"Replaces Keras' native ImageDataGenerator.\"\"\"\n",
        "    try:\n",
        "      if train is True:\n",
        "        image_file_list = self.x_train_file_list\n",
        "        label_file_list = self.y_train_file_list\n",
        "      elif val is True:\n",
        "        image_file_list = self.x_val_file_list\n",
        "        label_file_list = self.y_val_file_list\n",
        "      elif test is True:\n",
        "        image_file_list = self.x_test_file_list\n",
        "        label_file_list = self.y_test_file_list\n",
        "\n",
        "    except ValueError:\n",
        "      print('one of train or val or test need to be True')\n",
        "\n",
        "    i = 0\n",
        "    while True:\n",
        "      image_batch = []\n",
        "      label_batch = []\n",
        "\n",
        "      for b in range(batch_size):\n",
        "        if i == len(self.x_train_file_list): i = 0\n",
        "        if i < len(image_file_list):\n",
        "          sample_image_filename = image_file_list[i]\n",
        "          sample_label_filename = label_file_list[i]\n",
        "          # print('image: ', image_file_list[i])\n",
        "          # print('label: ', label_file_list[i])\n",
        "\n",
        "          if train or val:\n",
        "            image = cv2.imread(self.path_train_images + sample_image_filename, 1)\n",
        "            label = cv2.imread(self.path_train_labels + sample_label_filename, 0)\n",
        "          elif test is True:\n",
        "            image = cv2.imread(self.path_test_images + sample_image_filename, 1)\n",
        "            label = cv2.imread(self.path_test_labels + sample_label_filename, 0)\n",
        "          # image, label = self.change_color_space(image, label, self.color_space)\n",
        "          label = np.expand_dims(label, axis=2)\n",
        "          if image.shape[0] == self.x and image.shape[1] == self.y:\n",
        "            image_batch.append(image.astype(\"float32\"))\n",
        "          else:\n",
        "            print('the input image shape is not {}x{}'.format(self.x, self.y))\n",
        "          if label.shape[0] == self.x and label.shape[1] == self.y:\n",
        "            label_batch.append(label.astype(\"float32\"))\n",
        "          else:\n",
        "            print('the input label shape is not {}x{}'.format(self.x, self.y))\n",
        "\n",
        "        i += 1\n",
        "\n",
        "      if image_batch and label_batch:\n",
        "        image_batch = normalize(np.array(image_batch))\n",
        "        label_batch = normalize(np.array(label_batch))\n",
        "        yield (image_batch, label_batch)\n",
        "\n",
        "  def get_num_data_points(self, train=False, val=False):\n",
        "    try:\n",
        "      image_file_list = self.x_train_file_list if val is False and train is True else self.x_val_file_list\n",
        "    except ValueError:\n",
        "      print('one of train or val need to be True')\n",
        "\n",
        "    return len(image_file_list)\n",
        "\n",
        "  def shuffle_image_label_lists_together(self):\n",
        "    combined = list(zip(self.image_file_list, self.label_file_list))\n",
        "    random.shuffle(combined)\n",
        "    return zip(*combined)\n",
        "\n",
        "  @staticmethod\n",
        "  def change_color_space(image, label, color_space):\n",
        "    if color_space.lower() is 'hsi' or 'hsv':\n",
        "      image = cv2.cvtColor(image, cv2.COLOR_BGR2HSV)\n",
        "      label = cv2.cvtColor(label, cv2.COLOR_BGR2HSV)\n",
        "    elif color_space.lower() is 'lab':\n",
        "      image = cv2.cvtColor(image, cv2.COLOR_BGR2LAB)\n",
        "      label = cv2.cvtColor(label, cv2.COLOR_BGR2LAB)\n",
        "\n",
        "    return image, label"
      ],
      "metadata": {
        "id": "AJbqCKSqF-fz"
      },
      "execution_count": null,
      "outputs": []
    },
    {
      "cell_type": "code",
      "source": [
        "def normalize(arr):\n",
        "  diff = np.amax(arr) - np.amin(arr)\n",
        "  diff = 255 if diff == 0 else diff\n",
        "  arr = arr / np.absolute(diff)\n",
        "  return arr"
      ],
      "metadata": {
        "id": "fgkni_ROGYmq"
      },
      "execution_count": null,
      "outputs": []
    },
    {
      "cell_type": "code",
      "source": [
        "def get_png_filename_list(path):\n",
        "  file_list = []\n",
        "\n",
        "  for FileNameLength in range(0, 500):\n",
        "    for dirName, subdirList, fileList in os.walk(path):\n",
        "      for filename in fileList:\n",
        "        # check file extension\n",
        "        if \".png\" in filename.lower() and len(filename) == FileNameLength: file_list.append(filename)\n",
        "        break\n",
        "\n",
        "  file_list.sort()\n",
        "  return file_list"
      ],
      "metadata": {
        "id": "NE1RBJE7GdQS"
      },
      "execution_count": null,
      "outputs": []
    },
    {
      "cell_type": "code",
      "source": [
        "def get_jpg_filename_list(path):\n",
        "    file_list = []\n",
        "    for FileNameLength in range(0, 500):\n",
        "        for dirName, subdirList, fileList in os.walk(path):\n",
        "            for filename in fileList:\n",
        "                # check file extension\n",
        "                if \".jpg\" in filename.lower() and len(filename) == FileNameLength:\n",
        "                    file_list.append(filename)\n",
        "            break\n",
        "    file_list.sort()\n",
        "    return file_list"
      ],
      "metadata": {
        "id": "engeVog0Gjq7"
      },
      "execution_count": null,
      "outputs": []
    },
    {
      "cell_type": "code",
      "source": [
        "def load_jpg_images(path):\n",
        "    file_list = get_jpg_filename_list(path)\n",
        "    temp_list = []\n",
        "    for filename in file_list:\n",
        "        img = cv2.imread(path + filename, 1)\n",
        "        temp_list.append(img.astype(\"float32\"))\n",
        "\n",
        "    temp_list = np.array(temp_list)\n",
        "    # x_train = np.reshape(x_train,(x_train.shape[0], x_train.shape[1], x_train.shape[2], 1))\n",
        "    return temp_list, file_list"
      ],
      "metadata": {
        "id": "QM4USr2FGoYq"
      },
      "execution_count": null,
      "outputs": []
    },
    {
      "cell_type": "code",
      "source": [
        "def load_png_images(path):\n",
        "\n",
        "    temp_list = []\n",
        "    file_list = get_png_filename_list(path)\n",
        "    for filename in file_list:\n",
        "        img = cv2.imread(path + filename, 1)\n",
        "        temp_list.append(img.astype(\"float32\"))\n",
        "\n",
        "    temp_list = np.array(temp_list)\n",
        "    #temp_list = np.reshape(temp_list,(temp_list.shape[0], temp_list.shape[1], temp_list.shape[2], 3))\n",
        "    return temp_list, file_list"
      ],
      "metadata": {
        "id": "GkyYKES4NbG7"
      },
      "execution_count": null,
      "outputs": []
    },
    {
      "cell_type": "code",
      "source": [
        "def load_data(path):\n",
        "    # path_train_images = path + \"train/images/padded/\"\n",
        "    # path_train_labels = path + \"train/labels/padded/\"\n",
        "    # path_test_images = path + \"test/images/padded/\"\n",
        "    # path_test_labels = path + \"test/labels/padded/\"\n",
        "    path_train_images = path + \"train/images/\"\n",
        "    path_train_labels = path + \"train/labels/\"\n",
        "    path_test_images = path + \"test/images/\"\n",
        "    path_test_labels = path + \"test/labels/\"\n",
        "    x_train, train_image_filenames_list = load_png_images(path_train_images)\n",
        "    y_train, train_label_filenames_list = load_png_images(path_train_labels)\n",
        "    x_test, test_image_filenames_list = load_png_images(path_test_images)\n",
        "    y_test, test_label_filenames_list = load_png_images(path_test_labels)\n",
        "    x_train = normalize(x_train)\n",
        "    y_train = normalize(y_train)\n",
        "    x_test = normalize(x_test)\n",
        "    y_test = normalize(y_test)\n",
        "    return x_train, y_train, x_test, y_test, test_label_filenames_list"
      ],
      "metadata": {
        "id": "2pgcXVGyNmyV"
      },
      "execution_count": null,
      "outputs": []
    },
    {
      "cell_type": "code",
      "source": [
        "def load_test_images(path):\n",
        "    path_test_images = path + \"test/images/\"\n",
        "    x_test, test_image_filenames_list = load_png_images(path_test_images)\n",
        "    x_test = normalize(x_test)\n",
        "    return x_test, test_image_filenames_list"
      ],
      "metadata": {
        "id": "DNGvYojFLz33"
      },
      "execution_count": null,
      "outputs": []
    },
    {
      "cell_type": "code",
      "source": [
        "def save_results(np_array, color_space, outpath, test_label_filenames_list):\n",
        "    i = 0\n",
        "    for filename in test_label_filenames_list:\n",
        "        # predict_img = np.reshape(predict_img,(predict_img[0],predict_img[1]))\n",
        "        pred = np_array[i]\n",
        "        # if color_space.lower() is 'hsi' or 'hsv':\n",
        "        #     pred = cv2.cvtColor(pred, cv2.COLOR_HSV2RGB)\n",
        "        # elif color_space.lower() is 'lab':\n",
        "        #     pred = cv2.cvtColor(pred, cv2.COLOR_Lab2RGB)\n",
        "        cv2.imwrite(outpath + filename, pred * 255.)\n",
        "        i += 1"
      ],
      "metadata": {
        "id": "Lh0U765uNoHi"
      },
      "execution_count": null,
      "outputs": []
    },
    {
      "cell_type": "code",
      "source": [
        "def save_rgb_results(np_array, outpath, test_label_filenames_list):\n",
        "    i = 0\n",
        "    for filename in test_label_filenames_list:\n",
        "        # predict_img = np.reshape(predict_img,(predict_img[0],predict_img[1]))\n",
        "        cv2.imwrite(outpath + filename, np_array[i] * 255.)\n",
        "        i += 1"
      ],
      "metadata": {
        "id": "vkihb-2LNqhA"
      },
      "execution_count": null,
      "outputs": []
    },
    {
      "cell_type": "code",
      "source": [
        "def save_history(model, model_name, training_history, dataset, n_filters, epoch, learning_rate, loss,\n",
        "                 color_space, path=None, temp_name=None):\n",
        "    save_weight_filename = temp_name if temp_name else str(datetime.datetime.now())\n",
        "    model.save('{}{}.hdf5'.format(path, save_weight_filename))\n",
        "    with open('{}{}.json'.format(path, save_weight_filename), 'w') as f:\n",
        "        json.dump(training_history.history, f, indent=2)\n",
        "\n",
        "    json_list = ['{}{}.json'.format(path, save_weight_filename)]\n",
        "    for json_filename in json_list:\n",
        "        with open(json_filename) as f:\n",
        "            # convert the loss json object to a python dict\n",
        "            loss_dict = json.load(f)\n",
        "        print_list = ['loss', 'val_loss', 'dice_coef', 'val_dice_coef']\n",
        "        for item in print_list:\n",
        "            item_list = []\n",
        "            if item in loss_dict:\n",
        "                item_list.extend(loss_dict.get(item))\n",
        "                plt.plot(item_list)\n",
        "        plt.title('model:{} lr:{} epoch:{} #filtr:{} Colorspaces:{}'.format(model_name, learning_rate,\n",
        "                                                                            epoch, n_filters, color_space))\n",
        "        plt.ylabel('loss')\n",
        "        plt.xlabel('epoch')\n",
        "        plt.legend(['train_loss', 'test_loss', 'train_dice', 'test_dice'], loc='upper left')\n",
        "        plt.savefig('{}{}.png'.format(path, save_weight_filename))\n",
        "        plt.show()\n",
        "        plt.clf()"
      ],
      "metadata": {
        "id": "xMrZMoXSNvoI"
      },
      "execution_count": null,
      "outputs": []
    },
    {
      "cell_type": "code",
      "source": [
        ""
      ],
      "metadata": {
        "id": "qES1s2B0PvDK"
      },
      "execution_count": null,
      "outputs": []
    }
  ]
}