{
  "nbformat": 4,
  "nbformat_minor": 0,
  "metadata": {
    "colab": {
      "name": "BiLinearUpSampling.ipynb",
      "provenance": [],
      "collapsed_sections": []
    },
    "kernelspec": {
      "name": "python3",
      "display_name": "Python 3"
    },
    "language_info": {
      "name": "python"
    }
  },
  "cells": [
    {
      "cell_type": "code",
      "execution_count": null,
      "metadata": {
        "id": "B1bW_AaLsnEM"
      },
      "outputs": [],
      "source": [
        "# Import relevant libraries\n",
        "import keras.backend as K\n",
        "import tensorflow as tf\n",
        "from keras.layers import *"
      ]
    },
    {
      "cell_type": "code",
      "source": [
        "# Function to resize images\n",
        "def resize_images_bilinear(X, height_factor=1, width_factor=1, target_height=None, target_width=None, data_format='default'):\n",
        "  if data_format == 'default':\n",
        "    data_format = K.image_data_format()\n",
        "\n",
        "  if data_format == 'channels_first':\n",
        "    original_shape = K.int_shape(X)\n",
        "        \n",
        "    if target_height and target_width:\n",
        "      new_shape = tf.constant(np.array((target_height, target_width)).astype('int32'))\n",
        "    else:\n",
        "      new_shape = tf.shape(X)[2:]\n",
        "      new_shape *= tf.constant(np.array([height_factor, width_factor]).astype('int32'))\n",
        "\n",
        "    X = K.permute_dimensions(X, [0, 2, 3, 1])\n",
        "    X = tf.image.resize_bilinear(X, new_shape)\n",
        "    X = K.permute_dimensions(X, [0, 3, 1, 2])\n",
        "\n",
        "    if target_height and target_width:\n",
        "      X.set_shape((None, None, target_height, target_width))\n",
        "    else:\n",
        "      X.set_shape((None, None, original_shape[2] * height_factor, original_shape[3] * width_factor))\n",
        "    return X\n",
        "\n",
        "  elif data_format == 'channels_last':\n",
        "    original_shape = K.int_shape(X)\n",
        "    if target_height and target_width:\n",
        "      new_shape = tf.constant(np.array((target_height, target_width)).astype('int32'))\n",
        "    else:\n",
        "      new_shape = tf.shape(X)[1:3]\n",
        "      new_shape *= tf.constant(np.array([height_factor, width_factor]).astype('int32'))\n",
        "\n",
        "    X = tf.image.resize_bilinear(X, new_shape)\n",
        "    \n",
        "    if target_height and target_width:\n",
        "      X.set_shape((None, target_height, target_width, None))\n",
        "    else:\n",
        "      X.set_shape((None, original_shape[1] * height_factor, original_shape[2] * width_factor, None))\n",
        "    return X\n",
        "\n",
        "  else:\n",
        "    raise Exception('Invalid data_format: ' + data_format)"
      ],
      "metadata": {
        "id": "5fwXyzM2uWip"
      },
      "execution_count": null,
      "outputs": []
    },
    {
      "cell_type": "code",
      "source": [
        "# Class definition for Bi-linear-Up-Sampling\n",
        "class BilinearUpSampling2D(Layer):\n",
        "  # Constructor\n",
        "  def __init__(self, size=(1, 1), target_size=None, data_format='default', **kwargs):\n",
        "    if data_format == 'default':\n",
        "      data_format = K.image_data_format()\n",
        "\n",
        "    self.size = tuple(size)\n",
        "    \n",
        "    if target_size is not None:\n",
        "      self.target_size = tuple(target_size)\n",
        "    else:\n",
        "      self.target_size = None\n",
        "\n",
        "    assert data_format in {'channels_last', 'channels_first'}, 'data_format must be in {tf, th}'\n",
        "    self.data_format = data_format\n",
        "    self.input_spec = [InputSpec(ndim=4)]\n",
        "    super(BilinearUpSampling2D, self).__init__(**kwargs)\n",
        "\n",
        "  # Function to compute the output shape\n",
        "  def compute_output_shape(self, input_shape):\n",
        "    if self.data_format == 'channels_first':\n",
        "      width = int(self.size[0] * input_shape[2] if input_shape[2] is not None else None)\n",
        "      height = int(self.size[1] * input_shape[3] if input_shape[3] is not None else None)\n",
        "\n",
        "      if self.target_size is not None:\n",
        "        width = self.target_size[0]\n",
        "        height = self.target_size[1]\n",
        "\n",
        "      return (input_shape[0], input_shape[1], width, height)\n",
        "\n",
        "    elif self.data_format == 'channels_last':\n",
        "      width = int(self.size[0] * input_shape[1] if input_shape[1] is not None else None)\n",
        "      height = int(self.size[1] * input_shape[2] if input_shape[2] is not None else None)\n",
        "      if self.target_size is not None:\n",
        "        width = self.target_size[0]\n",
        "        height = self.target_size[1]\n",
        "      return (input_shape[0], width, height, input_shape[3])\n",
        "\n",
        "    else:\n",
        "      raise Exception('Invalid data_format: ' + self.data_format)\n",
        "\n",
        "  def call(self, x, mask=None):\n",
        "    if self.target_size is not None:\n",
        "      return resize_images_bilinear(x, target_height=self.target_size[0], target_width=self.target_size[1], data_format=self.data_format)\n",
        "    else:\n",
        "      return resize_images_bilinear(x, height_factor=self.size[0], width_factor=self.size[1], data_format=self.data_format)\n",
        "\n",
        "  def get_config(self):\n",
        "    config = {'size': self.size, 'target_size': self.target_size}\n",
        "    base_config = super(BilinearUpSampling2D, self).get_config()\n",
        "    return dict(list(base_config.items()) + list(config.items()))"
      ],
      "metadata": {
        "id": "drA3zcJxurJY"
      },
      "execution_count": null,
      "outputs": []
    }
  ]
}